{
  "nbformat": 4,
  "nbformat_minor": 0,
  "metadata": {
    "colab": {
      "provenance": []
    },
    "kernelspec": {
      "name": "python3",
      "display_name": "Python 3"
    },
    "language_info": {
      "name": "python"
    }
  },
  "cells": [
    {
      "cell_type": "code",
      "execution_count": null,
      "metadata": {
        "colab": {
          "base_uri": "https://localhost:8080/"
        },
        "id": "VqWWSAhWJJr2",
        "outputId": "2bb7e0ec-0cc3-416f-aa21-ca7ecf1c61e3"
      },
      "outputs": [
        {
          "output_type": "stream",
          "name": "stdout",
          "text": [
            "Expected output = h\n"
          ]
        }
      ],
      "source": [
        "#Print the input text without vowels using List comprehensions\n",
        "\n",
        "n = [i for i in 'hai' if i not in 'aeiou' ]\n",
        "b = ''.join(n)\n",
        "print(f\"Expected output = {b}\")\n",
        "\n"
      ]
    },
    {
      "cell_type": "code",
      "source": [
        "#Print only vowels from the text using List comprehensions\n",
        "\n",
        "n = [i for i in 'data' if i not in 'aeiou' ]\n",
        "b = ''.join(n)\n",
        "print(f\"Expected output = {b}\")"
      ],
      "metadata": {
        "colab": {
          "base_uri": "https://localhost:8080/"
        },
        "id": "uppLktBMJYzD",
        "outputId": "120776cf-51f1-4b53-8b26-1f659b1e6390"
      },
      "execution_count": null,
      "outputs": [
        {
          "output_type": "stream",
          "name": "stdout",
          "text": [
            "Expected output = dt\n"
          ]
        }
      ]
    },
    {
      "cell_type": "code",
      "source": [
        "#  print each valu from the list with its index\n",
        "n = [10, 11, 50, 34]\n",
        "output = []\n",
        "a = 0\n",
        "for i in n:\n",
        "  b = int(f\"{i}{a}\")\n",
        "  output.append(b)\n",
        "  a = a + 1\n",
        "print(f\"Expected Output = {output}\")\n"
      ],
      "metadata": {
        "colab": {
          "base_uri": "https://localhost:8080/"
        },
        "id": "3wm3v84fJYih",
        "outputId": "ab7e7abd-de25-4bb6-f7c3-e16dd6026e43"
      },
      "execution_count": null,
      "outputs": [
        {
          "output_type": "stream",
          "name": "stdout",
          "text": [
            "Expected Output = [100, 111, 502, 343]\n"
          ]
        }
      ]
    },
    {
      "cell_type": "code",
      "source": [
        "# This is a Python Program to print all integers that aren’t divisible by either 2 or 3 and lies between 1 and 50.\n",
        "\n",
        "n = [i for i in range(1,51) if i%2!=0 and i%3!=0]\n",
        "print(n)"
      ],
      "metadata": {
        "colab": {
          "base_uri": "https://localhost:8080/"
        },
        "id": "MxbSaokCJYXX",
        "outputId": "d1588eb6-24d6-4fe6-c926-9e9c6c0f9a79"
      },
      "execution_count": null,
      "outputs": [
        {
          "output_type": "stream",
          "name": "stdout",
          "text": [
            "[1, 5, 7, 11, 13, 17, 19, 23, 25, 29, 31, 35, 37, 41, 43, 47, 49]\n"
          ]
        }
      ]
    },
    {
      "cell_type": "code",
      "source": [
        "# The program takes in an integer and prints the smallest divisor of the integer.\n",
        "\n",
        "n = int(input(\"Enter a number: \"))\n",
        "if n <= 1:\n",
        "    print(\"There is no smallest divisor for numbers <= 1\")\n",
        "else:\n",
        "  for i in range(2,n+1):\n",
        "    if n % i == 0:\n",
        "      print(f\"smallest divisor of the {n} is: {i}\")\n",
        "      break"
      ],
      "metadata": {
        "colab": {
          "base_uri": "https://localhost:8080/"
        },
        "id": "qIVu6UyhJYLa",
        "outputId": "d5547dcb-3587-4b69-a8c2-32ec69a62b0a"
      },
      "execution_count": null,
      "outputs": [
        {
          "output_type": "stream",
          "name": "stdout",
          "text": [
            "Enter a number: 250\n",
            "smallest divisor of the 250 is: 2\n"
          ]
        }
      ]
    },
    {
      "cell_type": "code",
      "source": [
        "#. Write a Python program to check if it is a strong number or not .\n",
        "import math\n",
        "\n",
        "n = int(input(\"Enter a Number: \"))\n",
        "b = str(n)\n",
        "s = 0\n",
        "for i in b:\n",
        "  s = s + math.factorial(int(i))\n",
        "if s == n:\n",
        "  print(f\"{n} is a strong number\")\n",
        "else:\n",
        "  print(f\"{n} is not a strong number\")"
      ],
      "metadata": {
        "colab": {
          "base_uri": "https://localhost:8080/"
        },
        "id": "azP9KR_mJX_h",
        "outputId": "7f436b13-c3f6-448f-ec9f-a695c6cb73fd"
      },
      "execution_count": null,
      "outputs": [
        {
          "output_type": "stream",
          "name": "stdout",
          "text": [
            "Enter a Number: 265\n",
            "265 is not a strong number\n"
          ]
        }
      ]
    },
    {
      "cell_type": "code",
      "source": [
        "#Write a Python program that takes input from the user and displays that input back in upper and lower cases.\n",
        "\n",
        "n = input(\"Enter a text: \")\n",
        "print(f\"Upper case: {n.upper()}\")\n",
        "print(f\"Lower case: {n.lower()}\")"
      ],
      "metadata": {
        "colab": {
          "base_uri": "https://localhost:8080/"
        },
        "id": "IkzsNtnNJXz5",
        "outputId": "4f861eb1-6664-47ec-d312-428b3883fd15"
      },
      "execution_count": null,
      "outputs": [
        {
          "output_type": "stream",
          "name": "stdout",
          "text": [
            "Enter a text: chimma Naveen Kumar\n",
            "Upper case: CHIMMA NAVEEN KUMAR\n",
            "Lower case: chimma naveen kumar\n"
          ]
        }
      ]
    },
    {
      "cell_type": "code",
      "source": [
        "# Write a Python program to remove spaces from a given string\n",
        "\n",
        "n = input(\"input = \")\n",
        "b = n.replace(\" \",\"\")\n",
        "print(f\"Output = {b}\")"
      ],
      "metadata": {
        "colab": {
          "base_uri": "https://localhost:8080/"
        },
        "id": "bkKRDRMmJXpc",
        "outputId": "f5686076-16f9-4c5d-8ad5-57b89e815d29"
      },
      "execution_count": null,
      "outputs": [
        {
          "output_type": "stream",
          "name": "stdout",
          "text": [
            "input = united states\n",
            "Output = unitedstates\n"
          ]
        }
      ]
    },
    {
      "cell_type": "code",
      "source": [
        "# Write a Python program to capitalize first and last letters of each word of a given string.\n",
        "\n",
        "n = input(\"Enter a word: \")\n",
        "a = n[0]\n",
        "b = n[-1]\n",
        "c = n[1:-1]\n",
        "\n",
        "print(f\"Output: {a.upper()}{c.lower()}{b.upper()}\")\n"
      ],
      "metadata": {
        "colab": {
          "base_uri": "https://localhost:8080/"
        },
        "id": "DW1P2ugbJXdB",
        "outputId": "876cbfca-34a8-4ef9-f8df-50a7bb977bca"
      },
      "execution_count": null,
      "outputs": [
        {
          "output_type": "stream",
          "name": "stdout",
          "text": [
            "Enter a word: naveen kumar\n",
            "Output: Naveen kumaR\n"
          ]
        }
      ]
    },
    {
      "cell_type": "code",
      "source": [
        "# write a python program to find length of a string but should not use        len keyword\n",
        "\n",
        "\n",
        "n = input(\"Enter a string: \")\n",
        "t = 0\n",
        "for i in n:\n",
        "  t = t + 1\n",
        "print(f\"Length of given string is: {t}\")"
      ],
      "metadata": {
        "colab": {
          "base_uri": "https://localhost:8080/"
        },
        "id": "UBZshthnJXOn",
        "outputId": "afb30d1e-9717-423d-ab3e-cb6567536361"
      },
      "execution_count": null,
      "outputs": [
        {
          "output_type": "stream",
          "name": "stdout",
          "text": [
            "Enter a string: naveen kumar!\n",
            "Length of given string is: 13\n"
          ]
        }
      ]
    }
  ]
}
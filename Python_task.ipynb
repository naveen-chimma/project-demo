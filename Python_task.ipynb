{
  "nbformat": 4,
  "nbformat_minor": 0,
  "metadata": {
    "colab": {
      "provenance": []
    },
    "kernelspec": {
      "name": "python3",
      "display_name": "Python 3"
    },
    "language_info": {
      "name": "python"
    }
  },
  "cells": [
    {
      "cell_type": "code",
      "execution_count": 13,
      "metadata": {
        "colab": {
          "base_uri": "https://localhost:8080/"
        },
        "id": "VqWWSAhWJJr2",
        "outputId": "e8a3fe93-4b2a-4b69-8b07-b442b0f3597d"
      },
      "outputs": [
        {
          "output_type": "stream",
          "name": "stdout",
          "text": [
            "Expected output = h\n"
          ]
        }
      ],
      "source": [
        "#Print the input text without vowels using List comprehensions\n",
        "\n",
        "n = [i for i in 'hai' if i not in 'aeiou' ]\n",
        "b = ''.join(n)\n",
        "print(f\"Expected output = {b}\")"
      ]
    },
    {
      "cell_type": "code",
      "source": [
        "#Print only vowels from the text using List comprehensions\n",
        "\n",
        "n = [i for i in 'data' if i not in 'aeiou' ]\n",
        "b = ''.join(n)\n",
        "print(f\"Expected output = {b}\")"
      ],
      "metadata": {
        "colab": {
          "base_uri": "https://localhost:8080/"
        },
        "id": "uppLktBMJYzD",
        "outputId": "f02df7bd-f383-4b24-ad6e-c66b94bb87a8"
      },
      "execution_count": 16,
      "outputs": [
        {
          "output_type": "stream",
          "name": "stdout",
          "text": [
            "Expected output = dt\n"
          ]
        }
      ]
    },
    {
      "cell_type": "code",
      "source": [
        "#  print each valu from the list with its index\n",
        "n = [10, 11, 50, 34]\n",
        "output = []\n",
        "a = 0\n",
        "for i in n:\n",
        "  b = int(f\"{i}{a}\")\n",
        "  output.append(b)\n",
        "  a = a + 1\n",
        "print(f\"Expected Output = {output}\")\n"
      ],
      "metadata": {
        "colab": {
          "base_uri": "https://localhost:8080/"
        },
        "id": "3wm3v84fJYih",
        "outputId": "68636bd0-95a9-4869-cd72-5d8bbe3b49bc"
      },
      "execution_count": 8,
      "outputs": [
        {
          "output_type": "stream",
          "name": "stdout",
          "text": [
            "Expected Output = [100, 111, 502, 343]\n"
          ]
        }
      ]
    },
    {
      "cell_type": "code",
      "source": [
        "# This is a Python Program to print all integers that aren’t divisible by either 2 or 3 and lies between 1 and 50.\n",
        "\n",
        "n = [i for i in range(1,51) if i%2!=0 and i%3!=0]\n",
        "print(f\"Intergers that aren't divisible by either 2 or 3 are: {n}\")"
      ],
      "metadata": {
        "colab": {
          "base_uri": "https://localhost:8080/"
        },
        "id": "MxbSaokCJYXX",
        "outputId": "f4955c20-e26c-46c1-9cbc-eec9fd886dbb"
      },
      "execution_count": 12,
      "outputs": [
        {
          "output_type": "stream",
          "name": "stdout",
          "text": [
            "Intergers that aren't divisible by either 2 or 3 are: [1, 5, 7, 11, 13, 17, 19, 23, 25, 29, 31, 35, 37, 41, 43, 47, 49]\n"
          ]
        }
      ]
    },
    {
      "cell_type": "code",
      "source": [
        "# The program takes in an integer and prints the smallest divisor of the integer.\n",
        "\n",
        "n = int(input(\"Enter a number: \"))\n",
        "if n <= 1:\n",
        "    print(\"There is no smallest divisor for numbers <= 1\")\n",
        "else:\n",
        "  for i in range(2,n+1):\n",
        "    if n % i == 0:\n",
        "      print(f\"smallest divisor of the {n} is: {i}\")\n",
        "      break"
      ],
      "metadata": {
        "colab": {
          "base_uri": "https://localhost:8080/"
        },
        "id": "qIVu6UyhJYLa",
        "outputId": "463db101-ffa3-4d19-ec4b-71f8b65c22f1"
      },
      "execution_count": 6,
      "outputs": [
        {
          "output_type": "stream",
          "name": "stdout",
          "text": [
            "Enter a number: 49\n",
            "smallest divisor of the 49 is: 7\n"
          ]
        }
      ]
    },
    {
      "cell_type": "code",
      "source": [
        "#. Write a Python program to check if it is a strong number or not .\n",
        "import math\n",
        "\n",
        "n = int(input(\"Enter a Number: \"))\n",
        "b = str(n)\n",
        "s = 0\n",
        "for i in b:\n",
        "  s = s + math.factorial(int(i))\n",
        "if s == n:\n",
        "  print(f\"{n} is a strong number\")\n",
        "else:\n",
        "  print(f\"{n} is not a strong number\")"
      ],
      "metadata": {
        "colab": {
          "base_uri": "https://localhost:8080/"
        },
        "id": "azP9KR_mJX_h",
        "outputId": "38565e40-150e-47f6-b80a-a38856a04f32"
      },
      "execution_count": 5,
      "outputs": [
        {
          "output_type": "stream",
          "name": "stdout",
          "text": [
            "Enter a Number: 145\n",
            "145 is a strong number\n"
          ]
        }
      ]
    },
    {
      "cell_type": "code",
      "source": [
        "#Write a Python program that takes input from the user and displays that input back in upper and lower cases.\n",
        "\n",
        "n = input(\"Enter a text: \")\n",
        "print(f\"Upper case: {n.upper()}\")\n",
        "print(f\"Lower case: {n.lower()}\")"
      ],
      "metadata": {
        "colab": {
          "base_uri": "https://localhost:8080/"
        },
        "id": "IkzsNtnNJXz5",
        "outputId": "241790b0-af1f-4d88-b75d-b7d3366d42bc"
      },
      "execution_count": 4,
      "outputs": [
        {
          "output_type": "stream",
          "name": "stdout",
          "text": [
            "Enter a text: Chimma nAveen kuMar\n",
            "Upper case: CHIMMA NAVEEN KUMAR\n",
            "Lower case: chimma naveen kumar\n"
          ]
        }
      ]
    },
    {
      "cell_type": "code",
      "source": [
        "# Write a Python program to remove spaces from a given string\n",
        "\n",
        "n = input(\"input = \")\n",
        "b = n.replace(\" \",\"\")\n",
        "print(f\"Output = {b}\")"
      ],
      "metadata": {
        "colab": {
          "base_uri": "https://localhost:8080/"
        },
        "id": "bkKRDRMmJXpc",
        "outputId": "0445b776-572e-4c5b-e21c-2453ad2a6338"
      },
      "execution_count": 3,
      "outputs": [
        {
          "output_type": "stream",
          "name": "stdout",
          "text": [
            "input = united states\n",
            "Output = unitedstates\n"
          ]
        }
      ]
    },
    {
      "cell_type": "code",
      "source": [
        "# Write a Python program to capitalize first and last letters of each word of a given string.\n",
        "\n",
        "n = input(\"Enter a word: \")\n",
        "a = n[0]\n",
        "b = n[-1]\n",
        "c = n[1:-1]\n",
        "\n",
        "print(f\"Output: {a.upper()}{c.lower()}{b.upper()}\")\n"
      ],
      "metadata": {
        "colab": {
          "base_uri": "https://localhost:8080/"
        },
        "id": "DW1P2ugbJXdB",
        "outputId": "8365d872-29a2-43b6-ee33-c984736a1f4c"
      },
      "execution_count": 2,
      "outputs": [
        {
          "output_type": "stream",
          "name": "stdout",
          "text": [
            "Enter a word: naveen kumar\n",
            "Output: Naveen kumaR\n"
          ]
        }
      ]
    },
    {
      "cell_type": "code",
      "source": [
        "# write a python program to find length of a string but should not use        len keyword\n",
        "\n",
        "\n",
        "n = input(\"Enter a string: \")\n",
        "t = 0\n",
        "for i in n:\n",
        "  t = t + 1\n",
        "print(f\"Length of given string is: {t}\")"
      ],
      "metadata": {
        "colab": {
          "base_uri": "https://localhost:8080/"
        },
        "id": "UBZshthnJXOn",
        "outputId": "d3c8fab5-3205-413f-b80c-90e0ef4520fe"
      },
      "execution_count": 1,
      "outputs": [
        {
          "output_type": "stream",
          "name": "stdout",
          "text": [
            "Enter a string: naveen kumar!\n",
            "Length of given string is: 13\n"
          ]
        }
      ]
    }
  ]
}